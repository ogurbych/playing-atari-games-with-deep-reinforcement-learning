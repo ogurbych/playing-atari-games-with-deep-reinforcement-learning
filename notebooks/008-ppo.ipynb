{
 "cells": [
  {
   "cell_type": "code",
   "execution_count": null,
   "id": "327a8a6e-8038-4d86-af46-92bf677c083d",
   "metadata": {},
   "outputs": [],
   "source": [
    "def OurModel(input_shape, action_space, lr):\n",
    "    X_input = Input(input_shape)\n",
    "    \n",
    "    X = Flatten(input_shape=input_shape)(X_input)\n",
    "    \n",
    "    X = Dense(512, activation=\"elu\", kernel_initializer='he_uniform')(X)\n",
    "\n",
    "    action = Dense(action_space, activation=\"softmax\", kernel_initializer='he_uniform')(X)\n",
    "    value = Dense(1, activation='linear', kernel_initializer='he_uniform')(X)\n",
    "\n",
    "    def ppo_loss(y_true, y_pred):\n",
    "        # Defined in https://arxiv.org/abs/1707.06347\n",
    "        advantages, prediction_picks, actions = \\\n",
    "            y_true[:, :1], y_true[:, 1:1+action_space], y_true[:, 1+action_space:]\n",
    "        LOSS_CLIPPING = 0.2\n",
    "        ENTROPY_LOSS = 5e-3\n",
    "\n",
    "        prob = y_pred * actions\n",
    "        old_prob = actions * prediction_picks\n",
    "        r = prob/(old_prob + 1e-10)\n",
    "        p1 = r * advantages\n",
    "        p2 = K.clip(r, min_value=1 - LOSS_CLIPPING, max_value=1 + LOSS_CLIPPING) * advantages\n",
    "        loss =  -K.mean(K.minimum(p1, p2) + ENTROPY_LOSS * -(prob * K.log(prob + 1e-10)))\n",
    "\n",
    "        return loss\n",
    "        \n",
    "    Actor = Model(inputs = X_input, outputs = action)\n",
    "    Actor.compile(loss=ppo_loss, optimizer=RMSprop(lr=lr))\n",
    "\n",
    "    Critic = Model(inputs = X_input, outputs = value)\n",
    "    Critic.compile(loss='mse', optimizer=RMSprop(lr=lr))\n",
    "\n",
    "    return Actor, Critic"
   ]
  }
 ],
 "metadata": {
  "kernelspec": {
   "display_name": "Python 3 (ipykernel)",
   "language": "python",
   "name": "python3"
  },
  "language_info": {
   "codemirror_mode": {
    "name": "ipython",
    "version": 3
   },
   "file_extension": ".py",
   "mimetype": "text/x-python",
   "name": "python",
   "nbconvert_exporter": "python",
   "pygments_lexer": "ipython3",
   "version": "3.8.11"
  }
 },
 "nbformat": 4,
 "nbformat_minor": 5
}
